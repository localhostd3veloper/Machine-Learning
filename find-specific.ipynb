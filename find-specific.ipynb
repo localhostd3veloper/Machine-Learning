{
 "cells": [
  {
   "cell_type": "code",
   "execution_count": 36,
   "metadata": {},
   "outputs": [],
   "source": [
    "import csv"
   ]
  },
  {
   "cell_type": "code",
   "execution_count": 37,
   "metadata": {},
   "outputs": [],
   "source": [
    "attributes = 6\n",
    "a = []"
   ]
  },
  {
   "cell_type": "code",
   "execution_count": 38,
   "metadata": {},
   "outputs": [
    {
     "name": "stdout",
     "output_type": "stream",
     "text": [
      "The Given Training Dataset\n",
      "['green', 'hard', 'no', 'wrinkled', 'yes']\n",
      "['green', 'hard', 'yes', 'smooth', 'no']\n",
      "['brown', 'soft', 'no', 'wrinkled', 'no']\n",
      "['orange', 'hard', 'no', 'wrinkled', 'yes']\n",
      "['green', 'soft', 'yes', 'smooth', 'yes']\n",
      "['green', 'hard', 'yes', 'wrinkled', 'yes']\n",
      "['orange', 'hard', 'no', 'wrinkled', 'yes']\n"
     ]
    }
   ],
   "source": [
    "print('The Given Training Dataset')\n",
    "with open('D:\\\\Code\\\\Python\\\\ML\\\\food.csv') as csvfile:\n",
    "    reader = csv.reader(csvfile)\n",
    "    for row in reader:\n",
    "        a.append(row)\n",
    "        print(row)"
   ]
  },
  {
   "cell_type": "code",
   "execution_count": 39,
   "metadata": {},
   "outputs": [
    {
     "name": "stdout",
     "output_type": "stream",
     "text": [
      "\n",
      " The Total number of training instances are: 7\n"
     ]
    }
   ],
   "source": [
    "print('\\n The Total number of training instances are:', len(a))\n",
    "attributes = len(a[0]) - 1"
   ]
  },
  {
   "cell_type": "code",
   "execution_count": 40,
   "metadata": {},
   "outputs": [
    {
     "name": "stdout",
     "output_type": "stream",
     "text": [
      "\n",
      " Initial Hypothesis: \n",
      "['0', '0', '0', '0']\n"
     ]
    }
   ],
   "source": [
    "print('\\n Initial Hypothesis: ')\n",
    "hypothesis = ['0']*attributes\n",
    "print(hypothesis)"
   ]
  },
  {
   "cell_type": "code",
   "execution_count": 41,
   "metadata": {},
   "outputs": [
    {
     "name": "stdout",
     "output_type": "stream",
     "text": [
      "\n",
      " Instance  1  is  ['green', 'hard', 'no', 'wrinkled', 'yes']  and is positive instance\n",
      "\n",
      " Hypothesis of Training Instance  1  is  ['green', '0', '0', '0']\n",
      "\n",
      " Hypothesis of Training Instance  1  is  ['green', 'hard', '0', '0']\n",
      "\n",
      " Hypothesis of Training Instance  1  is  ['green', 'hard', 'no', '0']\n",
      "\n",
      " Hypothesis of Training Instance  1  is  ['green', 'hard', 'no', 'wrinkled']\n",
      "\n",
      " Instance  2  is  ['green', 'hard', 'yes', 'smooth', 'no']  and is negative instance and hence IGNORED\n",
      "\n",
      " Instance  3  is  ['brown', 'soft', 'no', 'wrinkled', 'no']  and is negative instance and hence IGNORED\n",
      "\n",
      " Instance  4  is  ['orange', 'hard', 'no', 'wrinkled', 'yes']  and is positive instance\n",
      "\n",
      " Hypothesis of Training Instance  4  is  ['?', 'hard', 'no', 'wrinkled']\n",
      "\n",
      " Hypothesis of Training Instance  4  is  ['?', 'hard', 'no', 'wrinkled']\n",
      "\n",
      " Hypothesis of Training Instance  4  is  ['?', 'hard', 'no', 'wrinkled']\n",
      "\n",
      " Hypothesis of Training Instance  4  is  ['?', 'hard', 'no', 'wrinkled']\n",
      "\n",
      " Instance  5  is  ['green', 'soft', 'yes', 'smooth', 'yes']  and is positive instance\n",
      "\n",
      " Hypothesis of Training Instance  5  is  ['?', 'hard', 'no', 'wrinkled']\n",
      "\n",
      " Hypothesis of Training Instance  5  is  ['?', '?', 'no', 'wrinkled']\n",
      "\n",
      " Hypothesis of Training Instance  5  is  ['?', '?', '?', 'wrinkled']\n",
      "\n",
      " Hypothesis of Training Instance  5  is  ['?', '?', '?', '?']\n",
      "\n",
      " Instance  6  is  ['green', 'hard', 'yes', 'wrinkled', 'yes']  and is positive instance\n",
      "\n",
      " Hypothesis of Training Instance  6  is  ['?', '?', '?', '?']\n",
      "\n",
      " Hypothesis of Training Instance  6  is  ['?', '?', '?', '?']\n",
      "\n",
      " Hypothesis of Training Instance  6  is  ['?', '?', '?', '?']\n",
      "\n",
      " Hypothesis of Training Instance  6  is  ['?', '?', '?', '?']\n",
      "\n",
      " Instance  7  is  ['orange', 'hard', 'no', 'wrinkled', 'yes']  and is positive instance\n",
      "\n",
      " Hypothesis of Training Instance  7  is  ['?', '?', '?', '?']\n",
      "\n",
      " Hypothesis of Training Instance  7  is  ['?', '?', '?', '?']\n",
      "\n",
      " Hypothesis of Training Instance  7  is  ['?', '?', '?', '?']\n",
      "\n",
      " Hypothesis of Training Instance  7  is  ['?', '?', '?', '?']\n"
     ]
    }
   ],
   "source": [
    "for i in range(0,len(a)):\n",
    "    if a[i][attributes] == 'yes':\n",
    "        print('\\n Instance ', i+1 ,' is ', a[i], ' and is positive instance')\n",
    "        for j in range(0,attributes):\n",
    "            if hypothesis[j] == '0' or hypothesis[j] == a[i][j]:\n",
    "                hypothesis[j] = a[i][j]\n",
    "            else:\n",
    "                hypothesis[j] = '?'\n",
    "            print('\\n Hypothesis of Training Instance ', i+1 ,' is ', hypothesis)\n",
    "    if a[i][attributes] == 'no':\n",
    "        print('\\n Instance ', i+1 ,' is ', a[i], ' and is negative instance and hence IGNORED')\n"
   ]
  },
  {
   "cell_type": "code",
   "execution_count": 42,
   "metadata": {},
   "outputs": [
    {
     "name": "stdout",
     "output_type": "stream",
     "text": [
      "The Maximally Specific Hypothesis For The Training Instance Is: ['?', '?', '?', '?']\n"
     ]
    }
   ],
   "source": [
    "print('The Maximally Specific Hypothesis For The Training Instance Is:',hypothesis)"
   ]
  }
 ],
 "metadata": {
  "interpreter": {
   "hash": "6d5d904bd7fd006c32206520796fdc937deac97cdfdcc1d1ce57e667683e4c46"
  },
  "kernelspec": {
   "display_name": "Python 3.10.3 64-bit",
   "language": "python",
   "name": "python3"
  },
  "language_info": {
   "codemirror_mode": {
    "name": "ipython",
    "version": 3
   },
   "file_extension": ".py",
   "mimetype": "text/x-python",
   "name": "python",
   "nbconvert_exporter": "python",
   "pygments_lexer": "ipython3",
   "version": "3.10.3"
  },
  "orig_nbformat": 4
 },
 "nbformat": 4,
 "nbformat_minor": 2
}
